{
 "cells": [
  {
   "cell_type": "code",
   "execution_count": 203,
   "metadata": {
    "collapsed": true
   },
   "outputs": [],
   "source": [
    "import requests\n",
    "import time\n",
    "import pandas as pd\n",
    "\n",
    "# import a token\n",
    "from config import *"
   ]
  },
  {
   "cell_type": "code",
   "execution_count": 204,
   "outputs": [],
   "source": [
    "v = 5.131\n",
    "count_fetching_posts = 100\n",
    "count_fetching_comments = 50\n",
    "depth = 10\n",
    "sleep_time = 0.4"
   ],
   "metadata": {
    "collapsed": false,
    "pycharm": {
     "name": "#%%\n"
    }
   }
  },
  {
   "cell_type": "code",
   "execution_count": 207,
   "outputs": [
    {
     "data": {
      "text/plain": "22122222"
     },
     "execution_count": 207,
     "metadata": {},
     "output_type": "execute_result"
    }
   ],
   "source": [
    "def get_user_id(link):\n",
    "    id = link\n",
    "    if 'vk.com/' in link:\n",
    "        id = link.split('/')[-1]\n",
    "    if not id.replace('id', '').isdigit():\n",
    "        id = requests.get(f'https://api.vk.com/method/utils.resolveScreenName?&v={v}&screen_name={id}&access_token={token}').json()['response']['object_id']\n",
    "    else:\n",
    "        id = id.replace('id', '')\n",
    "    return int(id)\n",
    "\n",
    "user_id = get_user_id(url_for_search_user)\n",
    "user_id"
   ],
   "metadata": {
    "collapsed": false,
    "pycharm": {
     "name": "#%%\n"
    }
   }
  },
  {
   "cell_type": "code",
   "execution_count": 208,
   "outputs": [],
   "source": [
    "subscription_ids = requests.get(f'https://api.vk.com/method/users.getSubscriptions?&v={v}&user_id={user_id}&access_token={token}').json()[\"response\"]['groups']['items']"
   ],
   "metadata": {
    "collapsed": false,
    "pycharm": {
     "name": "#%%\n"
    }
   }
  },
  {
   "cell_type": "code",
   "execution_count": 209,
   "outputs": [],
   "source": [
    "groups_list = ['-' + str(id) for id in subscription_ids]\n",
    "group_param = ', '.join(str(id) for id in groups_list)\n",
    "\n",
    "newsfeed = requests.get(f'https://api.vk.com/method/newsfeed.get?&v={v}&filters=post&source_ids={group_param}&count={count_fetching_posts}&access_token={token}').json()['response']\n",
    "posts_from_subscriptions = newsfeed['items']"
   ],
   "metadata": {
    "collapsed": false,
    "pycharm": {
     "name": "#%%\n"
    }
   }
  },
  {
   "cell_type": "code",
   "execution_count": 210,
   "outputs": [
    {
     "data": {
      "text/plain": "1000"
     },
     "execution_count": 210,
     "metadata": {},
     "output_type": "execute_result"
    }
   ],
   "source": [
    "for i in range(depth - 1):\n",
    "    next_from = newsfeed['next_from']\n",
    "    newsfeed = requests.get(f'https://api.vk.com/method/newsfeed.get?&v={v}&start_from={next_from}&filters=post&source_ids={group_param}&count={count_fetching_posts}&access_token={token}').json()['response']\n",
    "    posts_from_subscriptions += newsfeed['items']\n",
    "    time.sleep(sleep_time)\n",
    "len(posts_from_subscriptions)"
   ],
   "metadata": {
    "collapsed": false,
    "pycharm": {
     "name": "#%%\n"
    }
   }
  },
  {
   "cell_type": "code",
   "execution_count": 211,
   "outputs": [],
   "source": [
    "liked_posts = []\n",
    "temp_posts = []\n",
    "liked_api = \"\"\n",
    "limit = 1"
   ],
   "metadata": {
    "collapsed": false,
    "pycharm": {
     "name": "#%%\n"
    }
   }
  },
  {
   "cell_type": "code",
   "execution_count": 212,
   "outputs": [],
   "source": [
    "def update_liked_posts():\n",
    "    global liked_api, limit, liked_posts, temp_posts\n",
    "    if liked_api == \"\":\n",
    "        return\n",
    "    url = 'https://api.vk.com/method/execute?access_token={}&v={}&code=return%20[{}];'.format(token, v, liked_api)\n",
    "    response = requests.get(url).json()['response']\n",
    "    is_liked_list = [x for x in response if x != False]\n",
    "    for i in range(len(is_liked_list)):\n",
    "        if is_liked_list[i][\"liked\"] == 1:\n",
    "            liked_posts.append(temp_posts[i])\n",
    "    limit = 1\n",
    "    liked_api = ''\n",
    "    temp_posts = []\n",
    "    time.sleep(sleep_time)\n",
    "\n",
    "for post in posts_from_subscriptions:\n",
    "    item_id = post['post_id']\n",
    "    owner_id = post['source_id']\n",
    "    temp_posts.append(post)\n",
    "    liked_api += 'API.likes.isLiked({{\\'user_id\\':{},\\'type\\':\\'post\\',\\'owner_id\\':{},\\'item_id\\':{}}}),'.format(user_id, owner_id, item_id)\n",
    "    limit = limit + 1\n",
    "    if limit == 25:\n",
    "        update_liked_posts()\n",
    "update_liked_posts()"
   ],
   "metadata": {
    "collapsed": false,
    "pycharm": {
     "name": "#%%\n"
    }
   }
  },
  {
   "cell_type": "code",
   "execution_count": 213,
   "outputs": [],
   "source": [
    "user_wall_posts = requests.get(f'https://api.vk.com/method/wall.get?&v={v}&owner_id={user_id}&count={count_fetching_posts}&access_token={token}').json()[\"response\"]['items']"
   ],
   "metadata": {
    "collapsed": false,
    "pycharm": {
     "name": "#%%\n"
    }
   }
  },
  {
   "cell_type": "code",
   "execution_count": 214,
   "outputs": [],
   "source": [
    "created_by_user_wall_posts = []\n",
    "reposted_user_wall_posts = []\n",
    "for post in user_wall_posts:\n",
    "    if \"copy_history\" in post:\n",
    "        reposted_user_wall_posts.append(post)\n",
    "    else:\n",
    "        created_by_user_wall_posts.append(post)"
   ],
   "metadata": {
    "collapsed": false,
    "pycharm": {
     "name": "#%%\n"
    }
   }
  },
  {
   "cell_type": "code",
   "execution_count": 215,
   "outputs": [],
   "source": [
    "all_posts = liked_posts + user_wall_posts\n",
    "all_comments = []\n",
    "comment_api = \"\"\n",
    "limit = 1"
   ],
   "metadata": {
    "collapsed": false,
    "pycharm": {
     "name": "#%%\n"
    }
   }
  },
  {
   "cell_type": "code",
   "execution_count": 216,
   "outputs": [],
   "source": [
    "def update_comments():\n",
    "    global comment_api, all_comments, limit\n",
    "    if comment_api == \"\":\n",
    "        return\n",
    "    url = 'https://api.vk.com/method/execute?access_token={}&v={}&code=return%20[{}];'.format(token, v, comment_api)\n",
    "    response = requests.get(url).json()['response']\n",
    "    comment_hub = [x for x in response if x != False]\n",
    "    for comment_branch in comment_hub:\n",
    "        for commentary in comment_branch['items']:\n",
    "            all_comments.append(commentary)\n",
    "    limit = 1\n",
    "    comment_api = ''\n",
    "    time.sleep(sleep_time)\n",
    "\n",
    "for post in all_posts:\n",
    "    try:\n",
    "        post_id = post['post_id']\n",
    "    except Exception:\n",
    "        post_id = post['id']\n",
    "    owner_id = post['owner_id']\n",
    "    comment_api += 'API.wall.getComments({{\\'type\\':\\'post\\',\\'count\\':{},\\'owner_id\\':{},\\'post_id\\':{}}}),'.format(count_fetching_comments, owner_id, post_id)\n",
    "    limit = limit + 1\n",
    "    if limit == 25:\n",
    "        update_comments()\n",
    "update_comments()"
   ],
   "metadata": {
    "collapsed": false,
    "pycharm": {
     "name": "#%%\n"
    }
   }
  },
  {
   "cell_type": "code",
   "execution_count": 217,
   "outputs": [],
   "source": [
    "user_comments = []\n",
    "for comment in all_comments:\n",
    "    if comment[\"from_id\"] == user_id:\n",
    "        user_comments.append(comment)"
   ],
   "metadata": {
    "collapsed": false,
    "pycharm": {
     "name": "#%%\n"
    }
   }
  },
  {
   "cell_type": "code",
   "execution_count": 218,
   "outputs": [],
   "source": [
    "pd.DataFrame(liked_posts).to_csv(\"parsed_data/liked_posts.csv\")\n",
    "pd.DataFrame(created_by_user_wall_posts).to_csv(\"parsed_data/created_posts.csv\")\n",
    "pd.DataFrame(reposted_user_wall_posts).to_csv(\"parsed_data/reposted_posts.csv\")\n",
    "pd.DataFrame(user_comments).to_csv(\"parsed_data/comments.csv\")"
   ],
   "metadata": {
    "collapsed": false,
    "pycharm": {
     "name": "#%%\n"
    }
   }
  }
 ],
 "metadata": {
  "kernelspec": {
   "display_name": "Python 3",
   "language": "python",
   "name": "python3"
  },
  "language_info": {
   "codemirror_mode": {
    "name": "ipython",
    "version": 2
   },
   "file_extension": ".py",
   "mimetype": "text/x-python",
   "name": "python",
   "nbconvert_exporter": "python",
   "pygments_lexer": "ipython2",
   "version": "2.7.6"
  }
 },
 "nbformat": 4,
 "nbformat_minor": 0
}